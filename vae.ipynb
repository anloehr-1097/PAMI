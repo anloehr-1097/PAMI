{
 "cells": [
  {
   "cell_type": "code",
   "execution_count": 36,
   "metadata": {},
   "outputs": [],
   "source": [
    "%reload_ext autoreload\n",
    "%autoreload 2"
   ]
  },
  {
   "cell_type": "code",
   "execution_count": 60,
   "metadata": {},
   "outputs": [],
   "source": [
    "import torch\n",
    "from torch.autograd import Variable\n",
    "from torch import nn\n",
    "import numpy as np\n",
    "from Autoencoders import GaussianDistribution"
   ]
  },
  {
   "cell_type": "code",
   "execution_count": 48,
   "metadata": {},
   "outputs": [
    {
     "data": {
      "text/plain": [
       "tensor([[1., 0., 0., 0., 0., 0., 0., 0., 0., 0.],\n",
       "        [0., 1., 0., 0., 0., 0., 0., 0., 0., 0.],\n",
       "        [0., 0., 1., 0., 0., 0., 0., 0., 0., 0.],\n",
       "        [0., 0., 0., 1., 0., 0., 0., 0., 0., 0.],\n",
       "        [0., 0., 0., 0., 1., 0., 0., 0., 0., 0.],\n",
       "        [0., 0., 0., 0., 0., 1., 0., 0., 0., 0.],\n",
       "        [0., 0., 0., 0., 0., 0., 1., 0., 0., 0.],\n",
       "        [0., 0., 0., 0., 0., 0., 0., 1., 0., 0.],\n",
       "        [0., 0., 0., 0., 0., 0., 0., 0., 1., 0.],\n",
       "        [0., 0., 0., 0., 0., 0., 0., 0., 0., 1.]])"
      ]
     },
     "execution_count": 48,
     "metadata": {},
     "output_type": "execute_result"
    }
   ],
   "source": [
    "x = torch.Tensor(np.eye(10))\n",
    "\n",
    "x\n"
   ]
  },
  {
   "cell_type": "code",
   "execution_count": 115,
   "metadata": {},
   "outputs": [],
   "source": [
    "lin = nn.Linear(1, 2)\n",
    "initial = torch.Tensor([0.5])"
   ]
  },
  {
   "cell_type": "code",
   "execution_count": 116,
   "metadata": {},
   "outputs": [
    {
     "name": "stdout",
     "output_type": "stream",
     "text": [
      "tensor([0.5294, 0.6248], grad_fn=<AddBackward0>)\n",
      "tensor(0.5294, grad_fn=<SelectBackward0>) tensor(0.6248, grad_fn=<SelectBackward0>)\n",
      "torch.Size([]) torch.Size([])\n"
     ]
    },
    {
     "data": {
      "text/plain": [
       "(torch.Size([1]), torch.Size([1]))"
      ]
     },
     "execution_count": 116,
     "metadata": {},
     "output_type": "execute_result"
    }
   ],
   "source": [
    "params = lin(initial)\n",
    "print(params)\n",
    "print(params[0], params[1])\n",
    "print(params[0].shape, params[1].shape)\n",
    "\n",
    "params[1:2].size(), params[0:1].size()\n"
   ]
  },
  {
   "cell_type": "code",
   "execution_count": 117,
   "metadata": {},
   "outputs": [
    {
     "name": "stdout",
     "output_type": "stream",
     "text": [
      "tensor([[0.6445]], grad_fn=<AddBackward0>)\n"
     ]
    }
   ],
   "source": [
    "distrib = GaussianDistribution((1, 0), params[0:1], params[1:2])\n",
    "x = distrib()\n",
    "\n",
    "print(x)\n",
    "\n",
    "\n",
    "# distrib = torch.distributions.Normal(params[0:1], scale=params[1:2])\n",
    "# x = distrib.rsample()"
   ]
  },
  {
   "cell_type": "code",
   "execution_count": 118,
   "metadata": {},
   "outputs": [],
   "source": [
    "# loss = Variable(x - torch.Tensor(1), requires_grad=True)\n",
    "loss = torch.square(x - torch.Tensor([1]))"
   ]
  },
  {
   "cell_type": "code",
   "execution_count": 119,
   "metadata": {},
   "outputs": [],
   "source": [
    "loss.backward()\n"
   ]
  },
  {
   "cell_type": "code",
   "execution_count": 120,
   "metadata": {},
   "outputs": [
    {
     "data": {
      "text/plain": [
       "Parameter containing:\n",
       "tensor([[0.6092],\n",
       "        [0.9111]], requires_grad=True)"
      ]
     },
     "execution_count": 120,
     "metadata": {},
     "output_type": "execute_result"
    }
   ],
   "source": [
    "lin.weight\n"
   ]
  },
  {
   "cell_type": "code",
   "execution_count": 121,
   "metadata": {},
   "outputs": [
    {
     "name": "stdout",
     "output_type": "stream",
     "text": [
      "tensor([[-0.3555],\n",
      "        [-0.0655]])\n"
     ]
    }
   ],
   "source": [
    "print(lin.weight.grad)"
   ]
  },
  {
   "cell_type": "code",
   "execution_count": 122,
   "metadata": {},
   "outputs": [
    {
     "ename": "NameError",
     "evalue": "name 'dis' is not defined",
     "output_type": "error",
     "traceback": [
      "\u001b[0;31m---------------------------------------------------------------------------\u001b[0m",
      "\u001b[0;31mNameError\u001b[0m                                 Traceback (most recent call last)",
      "Cell \u001b[0;32mIn[122], line 1\u001b[0m\n\u001b[0;32m----> 1\u001b[0m d \u001b[39m=\u001b[39m dis()\n\u001b[1;32m      2\u001b[0m \u001b[39mprint\u001b[39m(d)\n\u001b[1;32m      3\u001b[0m \u001b[39mprint\u001b[39m(d \u001b[39m-\u001b[39m torch\u001b[39m.\u001b[39mTensor([\u001b[39m2\u001b[39m]))\n",
      "\u001b[0;31mNameError\u001b[0m: name 'dis' is not defined"
     ]
    }
   ],
   "source": [
    "d = dis()\n",
    "print(d)\n",
    "print(d - torch.Tensor([2]))"
   ]
  },
  {
   "cell_type": "code",
   "execution_count": null,
   "metadata": {},
   "outputs": [
    {
     "ename": "AttributeError",
     "evalue": "'Tensor' object has no attribute 'gradient'",
     "output_type": "error",
     "traceback": [
      "\u001b[0;31m---------------------------------------------------------------------------\u001b[0m",
      "\u001b[0;31mAttributeError\u001b[0m                            Traceback (most recent call last)",
      "Cell \u001b[0;32mIn[31], line 1\u001b[0m\n\u001b[0;32m----> 1\u001b[0m loss\u001b[39m.\u001b[39;49mgradient()\n",
      "\u001b[0;31mAttributeError\u001b[0m: 'Tensor' object has no attribute 'gradient'"
     ]
    }
   ],
   "source": [
    "loss.gradient()"
   ]
  },
  {
   "cell_type": "code",
   "execution_count": null,
   "metadata": {},
   "outputs": [],
   "source": []
  },
  {
   "cell_type": "code",
   "execution_count": null,
   "metadata": {},
   "outputs": [
    {
     "name": "stdout",
     "output_type": "stream",
     "text": [
      "tensor([0.3141, 0.6976, 0.3728, 0.8627, 0.8665, 0.1146, 0.6472, 0.3583, 0.5414,\n",
      "        0.2935])\n",
      "tensor([0.3007, 0.1815], grad_fn=<AddBackward0>) are the params \n",
      "Params [0] are 0.30067312717437744 and Params[1] are 0.18150267004966736\n",
      "tensor(0.1007, grad_fn=<AddBackward0>)\n",
      "tensor([0.0101], grad_fn=<PowBackward0>)\n",
      "Weights are given by\n",
      "Parameter containing:\n",
      "tensor([[ 0.0157,  0.2689,  0.1617,  0.0984, -0.1073, -0.1673,  0.3065, -0.0853,\n",
      "          0.1946, -0.1132],\n",
      "        [-0.0397, -0.1207,  0.2254,  0.0898, -0.1293,  0.2476, -0.0452, -0.0517,\n",
      "         -0.1306,  0.0415]], requires_grad=True)\n",
      "weights' grads are given by \n",
      "tensor([[ 0.0633,  0.1405,  0.0751,  0.1738,  0.1746,  0.0231,  0.1304,  0.0722,\n",
      "          0.1091,  0.0591],\n",
      "        [-0.0697, -0.1548, -0.0827, -0.1915, -0.1923, -0.0254, -0.1436, -0.0795,\n",
      "         -0.1201, -0.0651]])\n"
     ]
    }
   ],
   "source": [
    "rands = torch.rand(10)\n",
    "m = torch.nn.Linear(10, 2)\n",
    "print(rands)\n",
    "params = m(rands)\n",
    "print(f\"{params} are the params \")\n",
    "print(f\"Params [0] are {params[0]} and Params[1] are {params[1]}\")\n",
    "dis = torch.distributions.Normal(params[0], params[1])\n",
    "sample = dis.rsample()\n",
    "print(sample)\n",
    "loss = torch.square(sample - torch.Tensor(1))\n",
    "print(loss)\n",
    "loss.backward()\n",
    "print(\"Weights are given by\")\n",
    "print(m.weight)\n",
    "print(\"weights' grads are given by \")\n",
    "print(m.weight.grad)"
   ]
  },
  {
   "cell_type": "code",
   "execution_count": null,
   "metadata": {},
   "outputs": [],
   "source": [
    "NUM_LATENT = 10\n",
    "\n",
    "\n",
    "dis = GaussianDistribution(shape=(10,1), mu=torch.Tensor(np.zeros()), sigma=torch.Tensor(np.eye(10)))"
   ]
  },
  {
   "cell_type": "code",
   "execution_count": null,
   "metadata": {},
   "outputs": [],
   "source": []
  }
 ],
 "metadata": {
  "kernelspec": {
   "display_name": "torch",
   "language": "python",
   "name": "torch"
  },
  "language_info": {
   "codemirror_mode": {
    "name": "ipython",
    "version": 3
   },
   "file_extension": ".py",
   "mimetype": "text/x-python",
   "name": "python",
   "nbconvert_exporter": "python",
   "pygments_lexer": "ipython3",
   "version": "3.11.3"
  },
  "orig_nbformat": 4
 },
 "nbformat": 4,
 "nbformat_minor": 2
}
